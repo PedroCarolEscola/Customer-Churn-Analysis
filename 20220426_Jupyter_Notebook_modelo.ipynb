{
 "cells": [
  {
   "cell_type": "markdown",
   "id": "36f26879",
   "metadata": {},
   "source": [
    "# Modelado"
   ]
  },
  {
   "cell_type": "code",
   "execution_count": 1,
   "id": "a788dbdd",
   "metadata": {},
   "outputs": [],
   "source": [
    "import pandas as pd\n",
    "import numpy as np\n",
    "import datetime as dt\n",
    "from datetime import datetime\n",
    "import matplotlib.pyplot as plt\n",
    "import seaborn as sns\n",
    "import math\n",
    "from sklearn import linear_model \n",
    "from sklearn.model_selection import train_test_split\n",
    "from sklearn.linear_model import LogisticRegression \n",
    "#oversampling libraries and methods\n",
    "from imblearn.over_sampling import RandomOverSampler\n",
    "from collections import Counter\n",
    "from sklearn.metrics import confusion_matrix, ConfusionMatrixDisplay,plot_confusion_matrix,classification_report"
   ]
  },
  {
   "cell_type": "code",
   "execution_count": 2,
   "id": "292f3b00",
   "metadata": {},
   "outputs": [
    {
     "data": {
      "text/html": [
       "<div>\n",
       "<style scoped>\n",
       "    .dataframe tbody tr th:only-of-type {\n",
       "        vertical-align: middle;\n",
       "    }\n",
       "\n",
       "    .dataframe tbody tr th {\n",
       "        vertical-align: top;\n",
       "    }\n",
       "\n",
       "    .dataframe thead th {\n",
       "        text-align: right;\n",
       "    }\n",
       "</style>\n",
       "<table border=\"1\" class=\"dataframe\">\n",
       "  <thead>\n",
       "    <tr style=\"text-align: right;\">\n",
       "      <th></th>\n",
       "      <th>FLAG_ANDALUCIA</th>\n",
       "      <th>FLAG_LIFE</th>\n",
       "      <th>FLAG_CATALUNYA</th>\n",
       "      <th>FLAG_MADRID</th>\n",
       "      <th>FLAG_MODELO_4</th>\n",
       "      <th>FLAG_VENTA_VN_FLOTA</th>\n",
       "      <th>FLAG_AFECTADO_EMI</th>\n",
       "      <th>FLAG_CLIENTE_LABORAL</th>\n",
       "      <th>FLAG_HOMBRE</th>\n",
       "      <th>FLAG_CLIENTE_PARTICULAR</th>\n",
       "      <th>FLAG_EMPRESA</th>\n",
       "      <th>FLAG_DIESEL</th>\n",
       "      <th>DIAS_RELACION_2018</th>\n",
       "      <th>PESO_VEHICULO_SLI</th>\n",
       "      <th>NUM_OPCIONALES_SLI</th>\n",
       "      <th>POTENCIA_CV</th>\n",
       "      <th>IMPORTE_TOTAL_ORS_2018</th>\n",
       "      <th>NUM_ORS_2018</th>\n",
       "      <th>FLAG_TERMINA_RELACION_2019</th>\n",
       "    </tr>\n",
       "  </thead>\n",
       "  <tbody>\n",
       "    <tr>\n",
       "      <th>1924</th>\n",
       "      <td>0</td>\n",
       "      <td>0</td>\n",
       "      <td>1</td>\n",
       "      <td>0</td>\n",
       "      <td>0</td>\n",
       "      <td>0</td>\n",
       "      <td>0</td>\n",
       "      <td>0</td>\n",
       "      <td>0</td>\n",
       "      <td>1</td>\n",
       "      <td>0</td>\n",
       "      <td>1</td>\n",
       "      <td>1663</td>\n",
       "      <td>1517.0</td>\n",
       "      <td>9.0</td>\n",
       "      <td>75.0</td>\n",
       "      <td>1121.08</td>\n",
       "      <td>3.0</td>\n",
       "      <td>1.0</td>\n",
       "    </tr>\n",
       "    <tr>\n",
       "      <th>2346</th>\n",
       "      <td>0</td>\n",
       "      <td>0</td>\n",
       "      <td>0</td>\n",
       "      <td>0</td>\n",
       "      <td>0</td>\n",
       "      <td>0</td>\n",
       "      <td>0</td>\n",
       "      <td>0</td>\n",
       "      <td>1</td>\n",
       "      <td>1</td>\n",
       "      <td>0</td>\n",
       "      <td>0</td>\n",
       "      <td>6698</td>\n",
       "      <td>1135.0</td>\n",
       "      <td>2.0</td>\n",
       "      <td>60.0</td>\n",
       "      <td>1121.88</td>\n",
       "      <td>1.0</td>\n",
       "      <td>1.0</td>\n",
       "    </tr>\n",
       "    <tr>\n",
       "      <th>2351</th>\n",
       "      <td>0</td>\n",
       "      <td>0</td>\n",
       "      <td>0</td>\n",
       "      <td>0</td>\n",
       "      <td>0</td>\n",
       "      <td>0</td>\n",
       "      <td>0</td>\n",
       "      <td>0</td>\n",
       "      <td>1</td>\n",
       "      <td>1</td>\n",
       "      <td>0</td>\n",
       "      <td>1</td>\n",
       "      <td>6612</td>\n",
       "      <td>1175.0</td>\n",
       "      <td>5.0</td>\n",
       "      <td>90.0</td>\n",
       "      <td>0.00</td>\n",
       "      <td>0.0</td>\n",
       "      <td>1.0</td>\n",
       "    </tr>\n",
       "    <tr>\n",
       "      <th>2480</th>\n",
       "      <td>0</td>\n",
       "      <td>0</td>\n",
       "      <td>0</td>\n",
       "      <td>1</td>\n",
       "      <td>0</td>\n",
       "      <td>0</td>\n",
       "      <td>0</td>\n",
       "      <td>0</td>\n",
       "      <td>0</td>\n",
       "      <td>0</td>\n",
       "      <td>1</td>\n",
       "      <td>1</td>\n",
       "      <td>6522</td>\n",
       "      <td>1109.0</td>\n",
       "      <td>2.0</td>\n",
       "      <td>64.0</td>\n",
       "      <td>0.00</td>\n",
       "      <td>0.0</td>\n",
       "      <td>1.0</td>\n",
       "    </tr>\n",
       "    <tr>\n",
       "      <th>2512</th>\n",
       "      <td>0</td>\n",
       "      <td>0</td>\n",
       "      <td>1</td>\n",
       "      <td>0</td>\n",
       "      <td>0</td>\n",
       "      <td>0</td>\n",
       "      <td>0</td>\n",
       "      <td>0</td>\n",
       "      <td>1</td>\n",
       "      <td>1</td>\n",
       "      <td>0</td>\n",
       "      <td>0</td>\n",
       "      <td>6500</td>\n",
       "      <td>1135.0</td>\n",
       "      <td>2.0</td>\n",
       "      <td>60.0</td>\n",
       "      <td>0.00</td>\n",
       "      <td>0.0</td>\n",
       "      <td>1.0</td>\n",
       "    </tr>\n",
       "    <tr>\n",
       "      <th>...</th>\n",
       "      <td>...</td>\n",
       "      <td>...</td>\n",
       "      <td>...</td>\n",
       "      <td>...</td>\n",
       "      <td>...</td>\n",
       "      <td>...</td>\n",
       "      <td>...</td>\n",
       "      <td>...</td>\n",
       "      <td>...</td>\n",
       "      <td>...</td>\n",
       "      <td>...</td>\n",
       "      <td>...</td>\n",
       "      <td>...</td>\n",
       "      <td>...</td>\n",
       "      <td>...</td>\n",
       "      <td>...</td>\n",
       "      <td>...</td>\n",
       "      <td>...</td>\n",
       "      <td>...</td>\n",
       "    </tr>\n",
       "    <tr>\n",
       "      <th>114257</th>\n",
       "      <td>0</td>\n",
       "      <td>0</td>\n",
       "      <td>0</td>\n",
       "      <td>1</td>\n",
       "      <td>0</td>\n",
       "      <td>0</td>\n",
       "      <td>1</td>\n",
       "      <td>0</td>\n",
       "      <td>0</td>\n",
       "      <td>1</td>\n",
       "      <td>1</td>\n",
       "      <td>1</td>\n",
       "      <td>309</td>\n",
       "      <td>1472.0</td>\n",
       "      <td>14.0</td>\n",
       "      <td>75.0</td>\n",
       "      <td>0.00</td>\n",
       "      <td>0.0</td>\n",
       "      <td>0.0</td>\n",
       "    </tr>\n",
       "    <tr>\n",
       "      <th>114258</th>\n",
       "      <td>0</td>\n",
       "      <td>0</td>\n",
       "      <td>0</td>\n",
       "      <td>1</td>\n",
       "      <td>0</td>\n",
       "      <td>0</td>\n",
       "      <td>1</td>\n",
       "      <td>0</td>\n",
       "      <td>0</td>\n",
       "      <td>1</td>\n",
       "      <td>1</td>\n",
       "      <td>1</td>\n",
       "      <td>309</td>\n",
       "      <td>1472.0</td>\n",
       "      <td>14.0</td>\n",
       "      <td>75.0</td>\n",
       "      <td>0.00</td>\n",
       "      <td>0.0</td>\n",
       "      <td>0.0</td>\n",
       "    </tr>\n",
       "    <tr>\n",
       "      <th>114259</th>\n",
       "      <td>0</td>\n",
       "      <td>0</td>\n",
       "      <td>0</td>\n",
       "      <td>1</td>\n",
       "      <td>0</td>\n",
       "      <td>0</td>\n",
       "      <td>1</td>\n",
       "      <td>0</td>\n",
       "      <td>0</td>\n",
       "      <td>1</td>\n",
       "      <td>1</td>\n",
       "      <td>1</td>\n",
       "      <td>309</td>\n",
       "      <td>1472.0</td>\n",
       "      <td>14.0</td>\n",
       "      <td>75.0</td>\n",
       "      <td>0.00</td>\n",
       "      <td>0.0</td>\n",
       "      <td>0.0</td>\n",
       "    </tr>\n",
       "    <tr>\n",
       "      <th>114260</th>\n",
       "      <td>0</td>\n",
       "      <td>0</td>\n",
       "      <td>0</td>\n",
       "      <td>1</td>\n",
       "      <td>0</td>\n",
       "      <td>0</td>\n",
       "      <td>1</td>\n",
       "      <td>0</td>\n",
       "      <td>0</td>\n",
       "      <td>1</td>\n",
       "      <td>1</td>\n",
       "      <td>1</td>\n",
       "      <td>309</td>\n",
       "      <td>1472.0</td>\n",
       "      <td>14.0</td>\n",
       "      <td>75.0</td>\n",
       "      <td>0.00</td>\n",
       "      <td>0.0</td>\n",
       "      <td>0.0</td>\n",
       "    </tr>\n",
       "    <tr>\n",
       "      <th>114261</th>\n",
       "      <td>0</td>\n",
       "      <td>0</td>\n",
       "      <td>0</td>\n",
       "      <td>1</td>\n",
       "      <td>0</td>\n",
       "      <td>0</td>\n",
       "      <td>1</td>\n",
       "      <td>0</td>\n",
       "      <td>0</td>\n",
       "      <td>1</td>\n",
       "      <td>1</td>\n",
       "      <td>1</td>\n",
       "      <td>309</td>\n",
       "      <td>1472.0</td>\n",
       "      <td>14.0</td>\n",
       "      <td>75.0</td>\n",
       "      <td>0.00</td>\n",
       "      <td>0.0</td>\n",
       "      <td>0.0</td>\n",
       "    </tr>\n",
       "  </tbody>\n",
       "</table>\n",
       "<p>36230 rows × 19 columns</p>\n",
       "</div>"
      ],
      "text/plain": [
       "        FLAG_ANDALUCIA  FLAG_LIFE  FLAG_CATALUNYA  FLAG_MADRID  FLAG_MODELO_4  \\\n",
       "1924                 0          0               1            0              0   \n",
       "2346                 0          0               0            0              0   \n",
       "2351                 0          0               0            0              0   \n",
       "2480                 0          0               0            1              0   \n",
       "2512                 0          0               1            0              0   \n",
       "...                ...        ...             ...          ...            ...   \n",
       "114257               0          0               0            1              0   \n",
       "114258               0          0               0            1              0   \n",
       "114259               0          0               0            1              0   \n",
       "114260               0          0               0            1              0   \n",
       "114261               0          0               0            1              0   \n",
       "\n",
       "        FLAG_VENTA_VN_FLOTA  FLAG_AFECTADO_EMI  FLAG_CLIENTE_LABORAL  \\\n",
       "1924                      0                  0                     0   \n",
       "2346                      0                  0                     0   \n",
       "2351                      0                  0                     0   \n",
       "2480                      0                  0                     0   \n",
       "2512                      0                  0                     0   \n",
       "...                     ...                ...                   ...   \n",
       "114257                    0                  1                     0   \n",
       "114258                    0                  1                     0   \n",
       "114259                    0                  1                     0   \n",
       "114260                    0                  1                     0   \n",
       "114261                    0                  1                     0   \n",
       "\n",
       "        FLAG_HOMBRE  FLAG_CLIENTE_PARTICULAR  FLAG_EMPRESA  FLAG_DIESEL  \\\n",
       "1924              0                        1             0            1   \n",
       "2346              1                        1             0            0   \n",
       "2351              1                        1             0            1   \n",
       "2480              0                        0             1            1   \n",
       "2512              1                        1             0            0   \n",
       "...             ...                      ...           ...          ...   \n",
       "114257            0                        1             1            1   \n",
       "114258            0                        1             1            1   \n",
       "114259            0                        1             1            1   \n",
       "114260            0                        1             1            1   \n",
       "114261            0                        1             1            1   \n",
       "\n",
       "        DIAS_RELACION_2018  PESO_VEHICULO_SLI  NUM_OPCIONALES_SLI  \\\n",
       "1924                  1663             1517.0                 9.0   \n",
       "2346                  6698             1135.0                 2.0   \n",
       "2351                  6612             1175.0                 5.0   \n",
       "2480                  6522             1109.0                 2.0   \n",
       "2512                  6500             1135.0                 2.0   \n",
       "...                    ...                ...                 ...   \n",
       "114257                 309             1472.0                14.0   \n",
       "114258                 309             1472.0                14.0   \n",
       "114259                 309             1472.0                14.0   \n",
       "114260                 309             1472.0                14.0   \n",
       "114261                 309             1472.0                14.0   \n",
       "\n",
       "        POTENCIA_CV  IMPORTE_TOTAL_ORS_2018  NUM_ORS_2018  \\\n",
       "1924           75.0                 1121.08           3.0   \n",
       "2346           60.0                 1121.88           1.0   \n",
       "2351           90.0                    0.00           0.0   \n",
       "2480           64.0                    0.00           0.0   \n",
       "2512           60.0                    0.00           0.0   \n",
       "...             ...                     ...           ...   \n",
       "114257         75.0                    0.00           0.0   \n",
       "114258         75.0                    0.00           0.0   \n",
       "114259         75.0                    0.00           0.0   \n",
       "114260         75.0                    0.00           0.0   \n",
       "114261         75.0                    0.00           0.0   \n",
       "\n",
       "        FLAG_TERMINA_RELACION_2019  \n",
       "1924                           1.0  \n",
       "2346                           1.0  \n",
       "2351                           1.0  \n",
       "2480                           1.0  \n",
       "2512                           1.0  \n",
       "...                            ...  \n",
       "114257                         0.0  \n",
       "114258                         0.0  \n",
       "114259                         0.0  \n",
       "114260                         0.0  \n",
       "114261                         0.0  \n",
       "\n",
       "[36230 rows x 19 columns]"
      ]
     },
     "execution_count": 2,
     "metadata": {},
     "output_type": "execute_result"
    }
   ],
   "source": [
    "df_2018 = pd.read_pickle(\"./df_2018.pkl\")  \n",
    "df_2018  "
   ]
  },
  {
   "cell_type": "markdown",
   "id": "19ad5656",
   "metadata": {},
   "source": [
    "### Regresión logística"
   ]
  },
  {
   "cell_type": "code",
   "execution_count": 3,
   "id": "5e5a6a02",
   "metadata": {},
   "outputs": [
    {
     "name": "stdout",
     "output_type": "stream",
     "text": [
      "              precision    recall  f1-score   support\n",
      "\n",
      "         0.0       0.89      1.00      0.94      9629\n",
      "         1.0       0.00      0.00      0.00      1240\n",
      "\n",
      "    accuracy                           0.89     10869\n",
      "   macro avg       0.44      0.50      0.47     10869\n",
      "weighted avg       0.78      0.89      0.83     10869\n",
      "\n"
     ]
    },
    {
     "name": "stderr",
     "output_type": "stream",
     "text": [
      "C:\\Users\\pcarol\\Anaconda3\\envs\\pandas_playground\\lib\\site-packages\\sklearn\\metrics\\_classification.py:1318: UndefinedMetricWarning: Precision and F-score are ill-defined and being set to 0.0 in labels with no predicted samples. Use `zero_division` parameter to control this behavior.\n",
      "  _warn_prf(average, modifier, msg_start, len(result))\n",
      "C:\\Users\\pcarol\\Anaconda3\\envs\\pandas_playground\\lib\\site-packages\\sklearn\\metrics\\_classification.py:1318: UndefinedMetricWarning: Precision and F-score are ill-defined and being set to 0.0 in labels with no predicted samples. Use `zero_division` parameter to control this behavior.\n",
      "  _warn_prf(average, modifier, msg_start, len(result))\n",
      "C:\\Users\\pcarol\\Anaconda3\\envs\\pandas_playground\\lib\\site-packages\\sklearn\\metrics\\_classification.py:1318: UndefinedMetricWarning: Precision and F-score are ill-defined and being set to 0.0 in labels with no predicted samples. Use `zero_division` parameter to control this behavior.\n",
      "  _warn_prf(average, modifier, msg_start, len(result))\n"
     ]
    }
   ],
   "source": [
    "# La X té totes les dades excepte la columna a predir\n",
    "# La y té només la columna a predir \n",
    "X = df_2018.drop('FLAG_TERMINA_RELACION_2019',axis=1)\n",
    "y = df_2018['FLAG_TERMINA_RELACION_2019']\n",
    "\n",
    "\n",
    "# Dividim en train/test amb un 30% pel test\n",
    "X_train,X_test,y_train,y_test = train_test_split(X,y,test_size=0.3,random_state=9,stratify=y)\n",
    "\n",
    "# Creem un objecte LogisticRegression i l'entrenem amb\n",
    "# les dades de traines\n",
    "regr = LogisticRegression(max_iter=500, C=1)\n",
    "regr.fit(X_train,y_train)\n",
    "\n",
    "# Amb el model creat, guardem les prediccions sobre les dades\n",
    "# de test\n",
    "y_pred = regr.predict(X_test)\n",
    "\n",
    "# Amb la columna de test amb els valors reals i les nostres\n",
    "# prediccions, podem obtenir un report\n",
    "print(classification_report(y_test,y_pred))"
   ]
  },
  {
   "cell_type": "code",
   "execution_count": 4,
   "id": "d6811ad4",
   "metadata": {},
   "outputs": [
    {
     "data": {
      "text/plain": [
       "<sklearn.metrics._plot.confusion_matrix.ConfusionMatrixDisplay at 0x213b347b130>"
      ]
     },
     "execution_count": 4,
     "metadata": {},
     "output_type": "execute_result"
    },
    {
     "data": {
      "image/png": "[encoded data removed]",
      "text/plain": [
       "<Figure size 432x288 with 2 Axes>"
      ]
     },
     "metadata": {
      "needs_background": "light"
     },
     "output_type": "display_data"
    }
   ],
   "source": [
    "cm = confusion_matrix(y_test, y_pred, labels=regr.classes_)\n",
    "disp = ConfusionMatrixDisplay(confusion_matrix=cm,\n",
    "                               display_labels=regr.classes_)\n",
    "disp.plot()"
   ]
  },
  {
   "cell_type": "markdown",
   "id": "bcbac5f0",
   "metadata": {},
   "source": [
    "## Over sample"
   ]
  },
  {
   "cell_type": "code",
   "execution_count": 5,
   "id": "205a4a1c",
   "metadata": {},
   "outputs": [
    {
     "name": "stdout",
     "output_type": "stream",
     "text": [
      "[(0.0, 22469), (1.0, 22469)]\n"
     ]
    }
   ],
   "source": [
    "ros = RandomOverSampler(random_state=0)\n",
    "X_resampled, y_resampled = ros.fit_resample(X_train, y_train)\n",
    "\n",
    "print(sorted(Counter(y_resampled).items()))"
   ]
  },
  {
   "cell_type": "code",
   "execution_count": 6,
   "id": "eea2d7b7",
   "metadata": {},
   "outputs": [
    {
     "data": {
      "text/plain": [
       "(44938, 18)"
      ]
     },
     "execution_count": 6,
     "metadata": {},
     "output_type": "execute_result"
    }
   ],
   "source": [
    "X_resampled.shape"
   ]
  },
  {
   "cell_type": "code",
   "execution_count": 7,
   "id": "b191d8c6",
   "metadata": {},
   "outputs": [
    {
     "data": {
      "text/plain": [
       "(44938,)"
      ]
     },
     "execution_count": 7,
     "metadata": {},
     "output_type": "execute_result"
    }
   ],
   "source": [
    "y_resampled.shape"
   ]
  },
  {
   "cell_type": "markdown",
   "id": "eb9f0cb0",
   "metadata": {},
   "source": [
    "## Repetim model amb noves variables"
   ]
  },
  {
   "cell_type": "code",
   "execution_count": 8,
   "id": "cdc7be84",
   "metadata": {},
   "outputs": [
    {
     "name": "stdout",
     "output_type": "stream",
     "text": [
      "              precision    recall  f1-score   support\n",
      "\n",
      "         0.0       0.60      0.57      0.59      6741\n",
      "         1.0       0.59      0.62      0.60      6741\n",
      "\n",
      "    accuracy                           0.60     13482\n",
      "   macro avg       0.60      0.60      0.59     13482\n",
      "weighted avg       0.60      0.60      0.59     13482\n",
      "\n"
     ]
    }
   ],
   "source": [
    "# Dividim en train/test amb un 30% pel test\n",
    "X_train,X_test,y_train,y_test = train_test_split(X_resampled,y_resampled,test_size=0.3,random_state=9,stratify=y_resampled)\n",
    "\n",
    "# Creem un objecte LogisticRegression i l'entrenem amb\n",
    "# les dades de train\n",
    "regr = LogisticRegression(max_iter=500,C=1)\n",
    "regr.fit(X_train,y_train)\n",
    "\n",
    "# Amb el model creat, guardem les prediccions sobre les dades\n",
    "# de test\n",
    "y_pred = regr.predict(X_test)\n",
    "\n",
    "# Amb la columna de test amb els valors reals i les nostres\n",
    "# prediccions, podem obtenir un report\n",
    "print(classification_report(y_test,y_pred))"
   ]
  },
  {
   "cell_type": "code",
   "execution_count": 9,
   "id": "9a19ae9a",
   "metadata": {},
   "outputs": [
    {
     "data": {
      "text/plain": [
       "<sklearn.metrics._plot.confusion_matrix.ConfusionMatrixDisplay at 0x213bed428c0>"
      ]
     },
     "execution_count": 9,
     "metadata": {},
     "output_type": "execute_result"
    },
    {
     "data": {
      "image/png": "[encoded data removed]",
      "text/plain": [
       "<Figure size 432x288 with 2 Axes>"
      ]
     },
     "metadata": {
      "needs_background": "light"
     },
     "output_type": "display_data"
    }
   ],
   "source": [
    "cm = confusion_matrix(y_test, y_pred, labels=regr.classes_)\n",
    "disp = ConfusionMatrixDisplay(confusion_matrix=cm,\n",
    "                               display_labels=regr.classes_)\n",
    "disp.plot()"
   ]
  },
  {
   "cell_type": "code",
   "execution_count": 10,
   "id": "c2ff4e59",
   "metadata": {},
   "outputs": [
    {
     "name": "stdout",
     "output_type": "stream",
     "text": [
      "              precision    recall  f1-score   support\n",
      "\n",
      "         0.0       0.60      0.46      0.52      6741\n",
      "         1.0       0.56      0.70      0.62      6741\n",
      "\n",
      "    accuracy                           0.58     13482\n",
      "   macro avg       0.58      0.58      0.57     13482\n",
      "weighted avg       0.58      0.58      0.57     13482\n",
      "\n"
     ]
    }
   ],
   "source": [
    "regr = LogisticRegression(max_iter=500,C=0.00001)\n",
    "regr.fit(X_train,y_train)\n",
    "\n",
    "# Amb el model creat, guardem les prediccions sobre les dades\n",
    "# de test\n",
    "y_pred = regr.predict(X_test)\n",
    "\n",
    "# Amb la columna de test amb els valors reals i les nostres\n",
    "# prediccions, podem obtenir un report\n",
    "print(classification_report(y_test,y_pred))"
   ]
  },
  {
   "cell_type": "code",
   "execution_count": 11,
   "id": "b803b0f4",
   "metadata": {},
   "outputs": [
    {
     "data": {
      "text/plain": [
       "<sklearn.metrics._plot.confusion_matrix.ConfusionMatrixDisplay at 0x213c0133b20>"
      ]
     },
     "execution_count": 11,
     "metadata": {},
     "output_type": "execute_result"
    },
    {
     "data": {
      "image/png": "[encoded data removed]",
      "text/plain": [
       "<Figure size 432x288 with 2 Axes>"
      ]
     },
     "metadata": {
      "needs_background": "light"
     },
     "output_type": "display_data"
    }
   ],
   "source": [
    "cm = confusion_matrix(y_test, y_pred, labels=regr.classes_)\n",
    "disp = ConfusionMatrixDisplay(confusion_matrix=cm,\n",
    "                               display_labels=regr.classes_)\n",
    "disp.plot()"
   ]
  },
  {
   "cell_type": "code",
   "execution_count": 14,
   "id": "94f3237a",
   "metadata": {},
   "outputs": [
    {
     "data": {
      "text/plain": [
       "array([[-4.29986438e-03,  1.16116725e-04, -1.10988854e-03,\n",
       "         5.93522220e-03, -6.46319795e-04, -2.82377824e-04,\n",
       "         5.82781774e-03, -1.31052836e-03, -5.09108112e-03,\n",
       "        -8.21873357e-04,  7.57191116e-03,  1.26396742e-04,\n",
       "        -1.69552850e-04,  2.34950911e-04, -1.11414614e-02,\n",
       "         3.97554587e-04,  5.03765182e-05, -1.16653160e-04]])"
      ]
     },
     "execution_count": 14,
     "metadata": {},
     "output_type": "execute_result"
    }
   ],
   "source": [
    "regr.coef_"
   ]
  }
 ],
 "metadata": {
  "kernelspec": {
   "display_name": "Python 3 (ipykernel)",
   "language": "python",
   "name": "python3"
  },
  "language_info": {
   "codemirror_mode": {
    "name": "ipython",
    "version": 3
   },
   "file_extension": ".py",
   "mimetype": "text/x-python",
   "name": "python",
   "nbconvert_exporter": "python",
   "pygments_lexer": "ipython3",
   "version": "3.10.0"
  }
 },
 "nbformat": 4,
 "nbformat_minor": 5
}
